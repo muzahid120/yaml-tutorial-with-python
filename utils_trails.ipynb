{
 "cells": [
  {
   "cell_type": "code",
   "execution_count": 76,
   "metadata": {},
   "outputs": [],
   "source": [
    "from ensure import ensure_annotations"
   ]
  },
  {
   "cell_type": "code",
   "execution_count": 77,
   "metadata": {},
   "outputs": [],
   "source": [
    "@ensure_annotations\n",
    "def greet(name:str)->str:\n",
    "\n",
    "    return f\"Hello {name}\"\n"
   ]
  },
  {
   "cell_type": "code",
   "execution_count": 78,
   "metadata": {},
   "outputs": [
    {
     "ename": "EnsureError",
     "evalue": "Argument name of type <class 'int'> to <function greet at 0x0000017EA96DB310> does not match annotation type <class 'str'>",
     "output_type": "error",
     "traceback": [
      "\u001b[1;31m---------------------------------------------------------------------------\u001b[0m",
      "\u001b[1;31mEnsureError\u001b[0m                               Traceback (most recent call last)",
      "Cell \u001b[1;32mIn[78], line 1\u001b[0m\n\u001b[1;32m----> 1\u001b[0m \u001b[43mgreet\u001b[49m\u001b[43m(\u001b[49m\u001b[38;5;241;43m123\u001b[39;49m\u001b[43m)\u001b[49m\n",
      "File \u001b[1;32mc:\\Users\\SDS\\.conda\\envs\\myenv\\lib\\site-packages\\ensure\\main.py:870\u001b[0m, in \u001b[0;36mWrappedFunctionReturn.__call__\u001b[1;34m(self, *args, **kwargs)\u001b[0m\n\u001b[0;32m    868\u001b[0m     \u001b[38;5;28;01mif\u001b[39;00m \u001b[38;5;129;01mnot\u001b[39;00m \u001b[38;5;28misinstance\u001b[39m(value, templ):\n\u001b[0;32m    869\u001b[0m         msg \u001b[38;5;241m=\u001b[39m \u001b[38;5;124m\"\u001b[39m\u001b[38;5;124mArgument \u001b[39m\u001b[38;5;132;01m{arg}\u001b[39;00m\u001b[38;5;124m of type \u001b[39m\u001b[38;5;132;01m{valt}\u001b[39;00m\u001b[38;5;124m to \u001b[39m\u001b[38;5;132;01m{f}\u001b[39;00m\u001b[38;5;124m \u001b[39m\u001b[38;5;124m\"\u001b[39m \u001b[38;5;124m\"\u001b[39m\u001b[38;5;124mdoes not match annotation type \u001b[39m\u001b[38;5;132;01m{t}\u001b[39;00m\u001b[38;5;124m\"\u001b[39m\n\u001b[1;32m--> 870\u001b[0m         \u001b[38;5;28;01mraise\u001b[39;00m EnsureError(msg\u001b[38;5;241m.\u001b[39mformat(arg\u001b[38;5;241m=\u001b[39marg, f\u001b[38;5;241m=\u001b[39m\u001b[38;5;28mself\u001b[39m\u001b[38;5;241m.\u001b[39mf, t\u001b[38;5;241m=\u001b[39mtempl, valt\u001b[38;5;241m=\u001b[39m\u001b[38;5;28mtype\u001b[39m(value)))\n\u001b[0;32m    872\u001b[0m return_val \u001b[38;5;241m=\u001b[39m \u001b[38;5;28mself\u001b[39m\u001b[38;5;241m.\u001b[39mf(\u001b[38;5;241m*\u001b[39margs, \u001b[38;5;241m*\u001b[39m\u001b[38;5;241m*\u001b[39mkwargs)\n\u001b[0;32m    873\u001b[0m \u001b[38;5;28;01mif\u001b[39;00m \u001b[38;5;129;01mnot\u001b[39;00m \u001b[38;5;28misinstance\u001b[39m(return_val, \u001b[38;5;28mself\u001b[39m\u001b[38;5;241m.\u001b[39mreturn_templ):\n",
      "\u001b[1;31mEnsureError\u001b[0m: Argument name of type <class 'int'> to <function greet at 0x0000017EA96DB310> does not match annotation type <class 'str'>"
     ]
    }
   ],
   "source": [
    "greet(123)"
   ]
  },
  {
   "cell_type": "code",
   "execution_count": null,
   "metadata": {},
   "outputs": [],
   "source": []
  },
  {
   "cell_type": "code",
   "execution_count": null,
   "metadata": {},
   "outputs": [],
   "source": [
    "def greet_1(name:str)->str:\n",
    "    return 123\n",
    "\n"
   ]
  },
  {
   "cell_type": "code",
   "execution_count": null,
   "metadata": {},
   "outputs": [
    {
     "data": {
      "text/plain": [
       "123"
      ]
     },
     "execution_count": 9,
     "metadata": {},
     "output_type": "execute_result"
    }
   ],
   "source": [
    "greet_1('alica')"
   ]
  },
  {
   "cell_type": "code",
   "execution_count": null,
   "metadata": {},
   "outputs": [],
   "source": [
    "# useing ensure_annotations\n",
    "@ensure_annotations\n",
    "\n",
    "def greet_2(name:str) -> str:\n",
    "    return 123\n"
   ]
  },
  {
   "cell_type": "code",
   "execution_count": null,
   "metadata": {},
   "outputs": [
    {
     "ename": "EnsureError",
     "evalue": "Return value of <function greet_2 at 0x0000017EA7E74820> of type <class 'int'> does not match annotation type <class 'str'>",
     "output_type": "error",
     "traceback": [
      "\u001b[1;31m---------------------------------------------------------------------------\u001b[0m",
      "\u001b[1;31mEnsureError\u001b[0m                               Traceback (most recent call last)",
      "Cell \u001b[1;32mIn[12], line 1\u001b[0m\n\u001b[1;32m----> 1\u001b[0m \u001b[43mgreet_2\u001b[49m\u001b[43m(\u001b[49m\u001b[38;5;124;43m'\u001b[39;49m\u001b[38;5;124;43mjahid\u001b[39;49m\u001b[38;5;124;43m'\u001b[39;49m\u001b[43m)\u001b[49m\n",
      "File \u001b[1;32mc:\\Users\\SDS\\.conda\\envs\\myenv\\lib\\site-packages\\ensure\\main.py:875\u001b[0m, in \u001b[0;36mWrappedFunctionReturn.__call__\u001b[1;34m(self, *args, **kwargs)\u001b[0m\n\u001b[0;32m    873\u001b[0m \u001b[38;5;28;01mif\u001b[39;00m \u001b[38;5;129;01mnot\u001b[39;00m \u001b[38;5;28misinstance\u001b[39m(return_val, \u001b[38;5;28mself\u001b[39m\u001b[38;5;241m.\u001b[39mreturn_templ):\n\u001b[0;32m    874\u001b[0m     msg \u001b[38;5;241m=\u001b[39m \u001b[38;5;124m\"\u001b[39m\u001b[38;5;124mReturn value of \u001b[39m\u001b[38;5;132;01m{f}\u001b[39;00m\u001b[38;5;124m of type \u001b[39m\u001b[38;5;132;01m{valt}\u001b[39;00m\u001b[38;5;124m \u001b[39m\u001b[38;5;124m\"\u001b[39m \u001b[38;5;124m\"\u001b[39m\u001b[38;5;124mdoes not match annotation type \u001b[39m\u001b[38;5;132;01m{t}\u001b[39;00m\u001b[38;5;124m\"\u001b[39m\n\u001b[1;32m--> 875\u001b[0m     \u001b[38;5;28;01mraise\u001b[39;00m EnsureError(msg\u001b[38;5;241m.\u001b[39mformat(f\u001b[38;5;241m=\u001b[39m\u001b[38;5;28mself\u001b[39m\u001b[38;5;241m.\u001b[39mf, t\u001b[38;5;241m=\u001b[39m\u001b[38;5;28mself\u001b[39m\u001b[38;5;241m.\u001b[39mreturn_templ, valt\u001b[38;5;241m=\u001b[39m\u001b[38;5;28mtype\u001b[39m(return_val)))\n\u001b[0;32m    876\u001b[0m \u001b[38;5;28;01mreturn\u001b[39;00m return_val\n",
      "\u001b[1;31mEnsureError\u001b[0m: Return value of <function greet_2 at 0x0000017EA7E74820> of type <class 'int'> does not match annotation type <class 'str'>"
     ]
    }
   ],
   "source": [
    "greet_2('jahid')"
   ]
  },
  {
   "cell_type": "markdown",
   "metadata": {},
   "source": [
    "# Creat function who can read yaml file "
   ]
  },
  {
   "cell_type": "code",
   "execution_count": null,
   "metadata": {},
   "outputs": [],
   "source": [
    "import os \n",
    "from box import ConfigBox\n",
    "from box.exceptions import BoxValueError\n",
    "import yaml\n",
    "from ensure import ensure_annotations\n",
    "from pathlib import Path\n",
    "\n",
    "@ensure_annotations\n",
    "def read_yaml_file(yaml_file_path:Path)->ConfigBox:\n",
    "\n",
    "    try:\n",
    "        with open (yaml_file_path,'r') as yaml_obj:\n",
    "            content=yaml.safe_load(yaml_obj)\n",
    "            return ConfigBox(content)\n",
    "        \n",
    "    except BoxValueError:\n",
    "        raise ValueError('your yaml file is empty')\n",
    "    except Exception as e:\n",
    "        raise e\n",
    "            \n"
   ]
  },
  {
   "cell_type": "code",
   "execution_count": null,
   "metadata": {},
   "outputs": [
    {
     "data": {
      "text/plain": [
       "ConfigBox({'social_media': ['facebook', 'youtube', 'linkedin', 'twitter', 'instagram', 'whatsapp', 'telegram']})"
      ]
     },
     "execution_count": 28,
     "metadata": {},
     "output_type": "execute_result"
    }
   ],
   "source": [
    "file=Path(r'C:\\Users\\SDS\\yaml-tutorial-with-python\\list.yml')\n",
    "read_yaml_file(file)"
   ]
  },
  {
   "cell_type": "markdown",
   "metadata": {},
   "source": [
    "# Create function who can Create directories"
   ]
  },
  {
   "cell_type": "code",
   "execution_count": null,
   "metadata": {},
   "outputs": [],
   "source": [
    "import logging\n",
    "@ ensure_annotations\n",
    "def create_directories(path_to_directories:list,verbose=True):\n",
    "    for path in path_to_directories:\n",
    "        os.makedirs(path,exist_ok=True)\n",
    "        if verbose:\n",
    "            logging.info(f\"create directory at :{path}\")\n",
    "# example of use logging \n",
    "logging.basicConfig(level=logging.INFO)"
   ]
  },
  {
   "cell_type": "code",
   "execution_count": null,
   "metadata": {},
   "outputs": [],
   "source": [
    "\n",
    "dirs_to_create = [\n",
    "    Path(r'C:\\Users\\SDS\\example_dir1'),\n",
    "    Path(r'C:\\Users\\SDS\\example_dir2'),\n",
    "    Path(r'C:\\Users\\SDS\\example_dir3')]"
   ]
  },
  {
   "cell_type": "code",
   "execution_count": null,
   "metadata": {},
   "outputs": [
    {
     "name": "stderr",
     "output_type": "stream",
     "text": [
      "INFO:root:create directory at :C:\\Users\\SDS\\example_dir1\n",
      "INFO:root:create directory at :C:\\Users\\SDS\\example_dir2\n",
      "INFO:root:create directory at :C:\\Users\\SDS\\example_dir3\n"
     ]
    }
   ],
   "source": [
    "create_directories(dirs_to_create, verbose=True)"
   ]
  },
  {
   "cell_type": "markdown",
   "metadata": {},
   "source": [
    "# create function of save json file "
   ]
  },
  {
   "cell_type": "code",
   "execution_count": null,
   "metadata": {},
   "outputs": [],
   "source": [
    "import os \n",
    "import json \n",
    "from pathlib import Path\n",
    "from ensure import ensure_annotations"
   ]
  },
  {
   "cell_type": "code",
   "execution_count": 80,
   "metadata": {},
   "outputs": [],
   "source": [
    "def save_json_file(path:Path, data:dict):\n",
    "\n",
    "    try:\n",
    "        with open (path,\"w\") as file :\n",
    "            json.dump(data,file,indent=4)\n",
    "\n",
    "        logging.info(f\"json file saved at :{path}\")\n",
    "    except PermissionError as es:\n",
    "        logging.error('your permission denied :{es} !')\n",
    "    except Exception as er:\n",
    "        logging.error(f'An error occurred :{er}')"
   ]
  },
  {
   "cell_type": "code",
   "execution_count": 81,
   "metadata": {},
   "outputs": [],
   "source": [
    "logging.basicConfig(level=logging.INFO)"
   ]
  },
  {
   "cell_type": "code",
   "execution_count": null,
   "metadata": {},
   "outputs": [],
   "source": []
  },
  {
   "cell_type": "code",
   "execution_count": 82,
   "metadata": {},
   "outputs": [
    {
     "name": "stderr",
     "output_type": "stream",
     "text": [
      "INFO:root:json file saved at :C:\\Users\\SDS\\data.json\n"
     ]
    }
   ],
   "source": [
    "json_file_path = Path(r'C:\\Users\\SDS\\data.json')\n",
    "data_to_save = {\n",
    "    \"name\": \"Jahid\",\n",
    "    \"age\": 30,\n",
    "    \"city\": \"Dhaka\"\n",
    "}\n",
    "\n",
    "# Save the data to the JSON file\n",
    "save_json_file(json_file_path, data_to_save)"
   ]
  },
  {
   "cell_type": "code",
   "execution_count": 79,
   "metadata": {},
   "outputs": [
    {
     "name": "stderr",
     "output_type": "stream",
     "text": [
      "INFO:root:json file saved at: C:\\Users\\SDS\\data.json\n"
     ]
    }
   ],
   "source": [
    "from pathlib import Path\n",
    "import json\n",
    "import logging\n",
    "\n",
    "def save_json(path: Path, data: dict):\n",
    "    \"\"\"save json data\n",
    "\n",
    "    Args:\n",
    "        path (Path): path to json file\n",
    "        data (dict): data to be saved in json file\n",
    "    \"\"\"\n",
    "    try:\n",
    "        with open(path, \"w\") as f:\n",
    "            json.dump(data, f, indent=4)\n",
    "        logging.info(f\"json file saved at: {path}\")\n",
    "    except PermissionError as e:\n",
    "        logging.error(f\"Permission denied: {e}\")\n",
    "    except Exception as e:\n",
    "        logging.error(f\"An error occurred: {e}\")\n",
    "\n",
    "# Example usage\n",
    "logging.basicConfig(level=logging.INFO)  # Configure logging\n",
    "\n",
    "# Path to the JSON file in the user's home directory\n",
    "home_dir = Path.home()\n",
    "json_file_path = home_dir / 'data.json'\n",
    "\n",
    "# Data to be saved\n",
    "data_to_save = {\n",
    "    \"name\": \"Jahid\",\n",
    "    \"age\": 30,\n",
    "    \"city\": \"Dhaka\"\n",
    "}\n",
    "\n",
    "# Save the data to the JSON file\n",
    "save_json(json_file_path, data_to_save)\n"
   ]
  },
  {
   "cell_type": "code",
   "execution_count": null,
   "metadata": {},
   "outputs": [],
   "source": []
  }
 ],
 "metadata": {
  "kernelspec": {
   "display_name": "myenv",
   "language": "python",
   "name": "python3"
  },
  "language_info": {
   "codemirror_mode": {
    "name": "ipython",
    "version": 3
   },
   "file_extension": ".py",
   "mimetype": "text/x-python",
   "name": "python",
   "nbconvert_exporter": "python",
   "pygments_lexer": "ipython3",
   "version": "3.8.0"
  }
 },
 "nbformat": 4,
 "nbformat_minor": 2
}
