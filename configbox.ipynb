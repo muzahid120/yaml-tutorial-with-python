{
 "cells": [
  {
   "cell_type": "code",
   "execution_count": 2,
   "metadata": {},
   "outputs": [
    {
     "name": "stdout",
     "output_type": "stream",
     "text": [
      "Collecting python-box\n",
      "  Downloading python_box-7.2.0-cp38-cp38-win_amd64.whl.metadata (8.0 kB)\n",
      "Downloading python_box-7.2.0-cp38-cp38-win_amd64.whl (1.2 MB)\n",
      "   ---------------------------------------- 0.0/1.2 MB ? eta -:--:--\n",
      "   - -------------------------------------- 0.0/1.2 MB 653.6 kB/s eta 0:00:02\n",
      "   --- ------------------------------------ 0.1/1.2 MB 871.5 kB/s eta 0:00:02\n",
      "   ---- ----------------------------------- 0.1/1.2 MB 944.1 kB/s eta 0:00:02\n",
      "   ------ --------------------------------- 0.2/1.2 MB 1.1 MB/s eta 0:00:01\n",
      "   ------ --------------------------------- 0.2/1.2 MB 958.4 kB/s eta 0:00:02\n",
      "   -------- ------------------------------- 0.2/1.2 MB 885.4 kB/s eta 0:00:02\n",
      "   --------- ------------------------------ 0.3/1.2 MB 874.1 kB/s eta 0:00:02\n",
      "   ----------- ---------------------------- 0.3/1.2 MB 873.8 kB/s eta 0:00:01\n",
      "   ------------ --------------------------- 0.4/1.2 MB 880.6 kB/s eta 0:00:01\n",
      "   -------------- ------------------------- 0.4/1.2 MB 949.4 kB/s eta 0:00:01\n",
      "   ---------------- ----------------------- 0.5/1.2 MB 983.0 kB/s eta 0:00:01\n",
      "   ----------------- ---------------------- 0.5/1.2 MB 992.2 kB/s eta 0:00:01\n",
      "   ------------------- -------------------- 0.6/1.2 MB 901.1 kB/s eta 0:00:01\n",
      "   -------------------- ------------------- 0.6/1.2 MB 919.6 kB/s eta 0:00:01\n",
      "   --------------------- ------------------ 0.6/1.2 MB 888.5 kB/s eta 0:00:01\n",
      "   --------------------- ------------------ 0.7/1.2 MB 877.7 kB/s eta 0:00:01\n",
      "   ---------------------- ----------------- 0.7/1.2 MB 831.3 kB/s eta 0:00:01\n",
      "   ----------------------- ---------------- 0.7/1.2 MB 828.6 kB/s eta 0:00:01\n",
      "   -------------------------- ------------- 0.8/1.2 MB 846.7 kB/s eta 0:00:01\n",
      "   --------------------------- ------------ 0.8/1.2 MB 845.4 kB/s eta 0:00:01\n",
      "   ------------------------------ --------- 0.9/1.2 MB 890.9 kB/s eta 0:00:01\n",
      "   -------------------------------- ------- 1.0/1.2 MB 915.1 kB/s eta 0:00:01\n",
      "   ----------------------------------- ---- 1.1/1.2 MB 950.2 kB/s eta 0:00:01\n",
      "   ---------------------------------------  1.2/1.2 MB 1.0 MB/s eta 0:00:01\n",
      "   ---------------------------------------- 1.2/1.2 MB 996.3 kB/s eta 0:00:00\n",
      "Installing collected packages: python-box\n",
      "Successfully installed python-box-7.2.0\n",
      "Note: you may need to restart the kernel to use updated packages.\n"
     ]
    }
   ],
   "source": [
    "pip install python-box"
   ]
  },
  {
   "cell_type": "code",
   "execution_count": 3,
   "metadata": {},
   "outputs": [],
   "source": [
    "from box import ConfigBox"
   ]
  },
  {
   "cell_type": "code",
   "execution_count": 4,
   "metadata": {},
   "outputs": [],
   "source": [
    "data = {\n",
    "    \"name\": \"John\",\n",
    "    \"age\": 30,\n",
    "    \"address\": {\n",
    "        \"city\": \"New York\",\n",
    "        \"zip\": \"10001\"\n",
    "    }\n",
    "}"
   ]
  },
  {
   "cell_type": "code",
   "execution_count": 8,
   "metadata": {},
   "outputs": [],
   "source": [
    "config=ConfigBox(data)"
   ]
  },
  {
   "cell_type": "code",
   "execution_count": 9,
   "metadata": {},
   "outputs": [
    {
     "name": "stdout",
     "output_type": "stream",
     "text": [
      "{'name': 'John', 'age': 30, 'address': {'city': 'New York', 'zip': '10001'}}\n"
     ]
    }
   ],
   "source": [
    "print(config)"
   ]
  },
  {
   "cell_type": "code",
   "execution_count": 13,
   "metadata": {},
   "outputs": [
    {
     "name": "stdout",
     "output_type": "stream",
     "text": [
      "John\n",
      "30\n",
      "{'city': 'New York', 'zip': '10001'}\n",
      "New York\n",
      "10001\n"
     ]
    }
   ],
   "source": [
    "print(config.name)\n",
    "print(config.age)\n",
    "print(config.address)\n",
    "print(config.address.city)\n",
    "print(config.address.zip)"
   ]
  }
 ],
 "metadata": {
  "kernelspec": {
   "display_name": "myenv",
   "language": "python",
   "name": "python3"
  },
  "language_info": {
   "codemirror_mode": {
    "name": "ipython",
    "version": 3
   },
   "file_extension": ".py",
   "mimetype": "text/x-python",
   "name": "python",
   "nbconvert_exporter": "python",
   "pygments_lexer": "ipython3",
   "version": "3.8.0"
  }
 },
 "nbformat": 4,
 "nbformat_minor": 2
}
